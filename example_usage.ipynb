{
 "cells": [
  {
   "cell_type": "code",
   "execution_count": 3,
   "metadata": {},
   "outputs": [],
   "source": [
    "import pandas as pd\n",
    "import os, sys"
   ]
  },
  {
   "cell_type": "code",
   "execution_count": 5,
   "metadata": {},
   "outputs": [],
   "source": [
    "from stadincijfers import stadincijfers"
   ]
  },
  {
   "cell_type": "code",
   "execution_count": 6,
   "metadata": {},
   "outputs": [],
   "source": [
    "sic = stadincijfers(\"antwerpen\")"
   ]
  },
  {
   "cell_type": "code",
   "execution_count": 4,
   "metadata": {},
   "outputs": [
    {
     "name": "stdout",
     "output_type": "stream",
     "text": [
      "reading data, lines 450 to 500 this can take a while\n",
      "450 460 470 480 490 500 "
     ]
    },
    {
     "data": {
      "text/plain": [
       "br_industrie_oproep                                       oproep brandbestrijding - industrie\n",
       "br_industrie_p                                                 brandbestrijding - % industrie\n",
       "br_industrie_p_excl                                            brandbestrijding - % industrie\n",
       "br_melding_van_brandmeld_centrale           brandbestrijding - melding van brandmeld centrale\n",
       "br_melding_van_brandmeld_centrale_oproep    oproep brandbestrijding - melding van brandmel...\n",
       "dtype: object"
      ]
     },
     "execution_count": 4,
     "metadata": {},
     "output_type": "execute_result"
    }
   ],
   "source": [
    "vars = sic.odataVariables(450, 500)\n",
    "vars_s = pd.Series(vars)\n",
    "vars_s.to_csv(\"data/vars.csv\")\n",
    "vars_s.tail()"
   ]
  },
  {
   "cell_type": "code",
   "execution_count": 7,
   "metadata": {},
   "outputs": [
    {
     "data": {
      "text/plain": [
       "[['12MQ', '2020', ''],\n",
       " ['A00-', '2020', '2'],\n",
       " ['A01-', '2020', ''],\n",
       " ['A02-', '2020', '9'],\n",
       " ['A03-', '2020', ''],\n",
       " ['A04-', '2020', '3'],\n",
       " ['A05-', '2020', '2'],\n",
       " ['A081', '2020', ''],\n",
       " ['A10-', '2020', ''],\n",
       " ['A11-', '2020', '5']]"
      ]
     },
     "execution_count": 7,
     "metadata": {},
     "output_type": "execute_result"
    }
   ],
   "source": [
    "# get data as a json object convert to dict\n",
    "v = sic.selectiontableasjson('autodeelplaatsen_cambio', geolevel='sector', periodlevel='year', period=None )\n",
    "v['rows'][0:10]"
   ]
  },
  {
   "cell_type": "code",
   "execution_count": 21,
   "metadata": {},
   "outputs": [
    {
     "data": {
      "text/html": [
       "<div>\n",
       "<style scoped>\n",
       "    .dataframe tbody tr th:only-of-type {\n",
       "        vertical-align: middle;\n",
       "    }\n",
       "\n",
       "    .dataframe tbody tr th {\n",
       "        vertical-align: top;\n",
       "    }\n",
       "\n",
       "    .dataframe thead th {\n",
       "        text-align: right;\n",
       "    }\n",
       "</style>\n",
       "<table border=\"1\" class=\"dataframe\">\n",
       "  <thead>\n",
       "    <tr style=\"text-align: right;\">\n",
       "      <th></th>\n",
       "      <th>Geo</th>\n",
       "      <th>Perioden</th>\n",
       "      <th># autodeelplaatsen Cambio</th>\n",
       "    </tr>\n",
       "  </thead>\n",
       "  <tbody>\n",
       "    <tr>\n",
       "      <th>0</th>\n",
       "      <td>Amandus - Atheneum</td>\n",
       "      <td>2016</td>\n",
       "      <td>2.0</td>\n",
       "    </tr>\n",
       "    <tr>\n",
       "      <th>1</th>\n",
       "      <td>Brederode</td>\n",
       "      <td>2016</td>\n",
       "      <td>NaN</td>\n",
       "    </tr>\n",
       "    <tr>\n",
       "      <th>2</th>\n",
       "      <td>Centraal Station</td>\n",
       "      <td>2016</td>\n",
       "      <td>NaN</td>\n",
       "    </tr>\n",
       "    <tr>\n",
       "      <th>3</th>\n",
       "      <td>Dam</td>\n",
       "      <td>2016</td>\n",
       "      <td>NaN</td>\n",
       "    </tr>\n",
       "    <tr>\n",
       "      <th>4</th>\n",
       "      <td>Eilandje</td>\n",
       "      <td>2016</td>\n",
       "      <td>2.0</td>\n",
       "    </tr>\n",
       "    <tr>\n",
       "      <th>5</th>\n",
       "      <td>Haringrode</td>\n",
       "      <td>2016</td>\n",
       "      <td>2.0</td>\n",
       "    </tr>\n",
       "    <tr>\n",
       "      <th>6</th>\n",
       "      <td>Harmonie</td>\n",
       "      <td>2016</td>\n",
       "      <td>7.0</td>\n",
       "    </tr>\n",
       "    <tr>\n",
       "      <th>7</th>\n",
       "      <td>Haven Antwerpen</td>\n",
       "      <td>2016</td>\n",
       "      <td>NaN</td>\n",
       "    </tr>\n",
       "    <tr>\n",
       "      <th>8</th>\n",
       "      <td>Historisch Centrum</td>\n",
       "      <td>2016</td>\n",
       "      <td>4.0</td>\n",
       "    </tr>\n",
       "    <tr>\n",
       "      <th>9</th>\n",
       "      <td>Kiel</td>\n",
       "      <td>2016</td>\n",
       "      <td>NaN</td>\n",
       "    </tr>\n",
       "  </tbody>\n",
       "</table>\n",
       "</div>"
      ],
      "text/plain": [
       "                  Geo Perioden  # autodeelplaatsen Cambio\n",
       "0  Amandus - Atheneum     2016                        2.0\n",
       "1           Brederode     2016                        NaN\n",
       "2    Centraal Station     2016                        NaN\n",
       "3                 Dam     2016                        NaN\n",
       "4            Eilandje     2016                        2.0\n",
       "5          Haringrode     2016                        2.0\n",
       "6            Harmonie     2016                        7.0\n",
       "7     Haven Antwerpen     2016                        NaN\n",
       "8  Historisch Centrum     2016                        4.0\n",
       "9                Kiel     2016                        NaN"
      ]
     },
     "execution_count": 21,
     "metadata": {},
     "output_type": "execute_result"
    }
   ],
   "source": [
    "cambio2016 = sic.selectiontableasDataframe('autodeelplaatsen_cambio', geolevel='wijk', periodlevel='year', period=2016)\n",
    "cambio2016.head(10)\n"
   ]
  },
  {
   "cell_type": "code",
   "execution_count": 20,
   "metadata": {},
   "outputs": [
    {
     "data": {
      "text/plain": [
       "'cambios in 2016 74.0 en nu 156.0'"
      ]
     },
     "execution_count": 20,
     "metadata": {},
     "output_type": "execute_result"
    }
   ],
   "source": [
    "cambioNu = sic.selectiontableasDataframe('autodeelplaatsen_cambio', geolevel='wijk', periodlevel='year', period=2020)\n",
    "\"cambios staansplaatsen in 2016 {} en nu {}\".format( cambio2016['# autodeelplaatsen Cambio'].sum() ,\n",
    "                                            cambioNu['# autodeelplaatsen Cambio'].sum() ) "
   ]
  }
 ],
 "metadata": {
  "kernelspec": {
   "display_name": "Python 3",
   "language": "python",
   "name": "python3"
  },
  "language_info": {
   "codemirror_mode": {
    "name": "ipython",
    "version": 3
   },
   "file_extension": ".py",
   "mimetype": "text/x-python",
   "name": "python",
   "nbconvert_exporter": "python",
   "pygments_lexer": "ipython3",
   "version": "3.6.10"
  }
 },
 "nbformat": 4,
 "nbformat_minor": 4
}
